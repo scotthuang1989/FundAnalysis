{
 "cells": [
  {
   "cell_type": "code",
   "execution_count": 2,
   "metadata": {
    "collapsed": true
   },
   "outputs": [],
   "source": [
    "import sqlite3\n",
    "from pandas import Series, DataFrame\n",
    "import pandas as pd\n",
    "import numpy as np"
   ]
  },
  {
   "cell_type": "markdown",
   "metadata": {},
   "source": [
    "Load Fund Basic Information from database"
   ]
  },
  {
   "cell_type": "code",
   "execution_count": 9,
   "metadata": {
    "collapsed": true
   },
   "outputs": [],
   "source": [
    "con = sqlite3.connect(r\"../crawler/FundProject.db\")\n",
    "all_fund_df = pd.read_sql(\"SELECT * FROM FundBasicInfo\",con,parse_dates=('fund_start_date',))"
   ]
  },
  {
   "cell_type": "markdown",
   "metadata": {},
   "source": [
    "## Preview of data"
   ]
  },
  {
   "cell_type": "code",
   "execution_count": 18,
   "metadata": {
    "collapsed": true
   },
   "outputs": [],
   "source": [
    "# change type of 'fund_scale' into float16\n",
    "all_fund_df['fund_scale'] = all_fund_df['fund_scale'].astype(np.float16)"
   ]
  },
  {
   "cell_type": "code",
   "execution_count": 19,
   "metadata": {},
   "outputs": [
    {
     "data": {
      "text/html": [
       "<div>\n",
       "<style>\n",
       "    .dataframe thead tr:only-child th {\n",
       "        text-align: right;\n",
       "    }\n",
       "\n",
       "    .dataframe thead th {\n",
       "        text-align: left;\n",
       "    }\n",
       "\n",
       "    .dataframe tbody tr th {\n",
       "        vertical-align: top;\n",
       "    }\n",
       "</style>\n",
       "<table border=\"1\" class=\"dataframe\">\n",
       "  <thead>\n",
       "    <tr style=\"text-align: right;\">\n",
       "      <th></th>\n",
       "      <th>fund_id</th>\n",
       "      <th>fund_cate</th>\n",
       "      <th>fund_scale</th>\n",
       "      <th>fund_start_date</th>\n",
       "      <th>fund_corp</th>\n",
       "    </tr>\n",
       "  </thead>\n",
       "  <tbody>\n",
       "    <tr>\n",
       "      <th>0</th>\n",
       "      <td>100056</td>\n",
       "      <td>混合型</td>\n",
       "      <td>63.156250</td>\n",
       "      <td>2011-08-10</td>\n",
       "      <td>富国基金</td>\n",
       "    </tr>\n",
       "    <tr>\n",
       "      <th>1</th>\n",
       "      <td>001086</td>\n",
       "      <td>债券型</td>\n",
       "      <td>3.439453</td>\n",
       "      <td>2015-08-31</td>\n",
       "      <td>华富基金</td>\n",
       "    </tr>\n",
       "    <tr>\n",
       "      <th>2</th>\n",
       "      <td>003596</td>\n",
       "      <td>混合型</td>\n",
       "      <td>3.210938</td>\n",
       "      <td>2017-01-13</td>\n",
       "      <td>长盛基金</td>\n",
       "    </tr>\n",
       "    <tr>\n",
       "      <th>3</th>\n",
       "      <td>001287</td>\n",
       "      <td>混合型</td>\n",
       "      <td>0.130005</td>\n",
       "      <td>2015-05-20</td>\n",
       "      <td>安信基金</td>\n",
       "    </tr>\n",
       "    <tr>\n",
       "      <th>4</th>\n",
       "      <td>004076</td>\n",
       "      <td>混合型</td>\n",
       "      <td>1.620117</td>\n",
       "      <td>2017-01-23</td>\n",
       "      <td>国联安基金</td>\n",
       "    </tr>\n",
       "  </tbody>\n",
       "</table>\n",
       "</div>"
      ],
      "text/plain": [
       "  fund_id fund_cate  fund_scale fund_start_date fund_corp\n",
       "0  100056       混合型   63.156250      2011-08-10      富国基金\n",
       "1  001086       债券型    3.439453      2015-08-31      华富基金\n",
       "2  003596       混合型    3.210938      2017-01-13      长盛基金\n",
       "3  001287       混合型    0.130005      2015-05-20      安信基金\n",
       "4  004076       混合型    1.620117      2017-01-23     国联安基金"
      ]
     },
     "execution_count": 19,
     "metadata": {},
     "output_type": "execute_result"
    }
   ],
   "source": [
    "# preview of fund basic information\n",
    "all_fund_df.head()"
   ]
  },
  {
   "cell_type": "markdown",
   "metadata": {},
   "source": [
    "### Number of fund"
   ]
  },
  {
   "cell_type": "code",
   "execution_count": 25,
   "metadata": {},
   "outputs": [
    {
     "name": "stdout",
     "output_type": "stream",
     "text": [
      "Total number of fund:4881\n"
     ]
    }
   ],
   "source": [
    "print(\"Total number of fund:\" + str(len(all_fund_df.index)) )"
   ]
  },
  {
   "cell_type": "markdown",
   "metadata": {},
   "source": [
    "## Fund company analysis by company"
   ]
  },
  {
   "cell_type": "code",
   "execution_count": 29,
   "metadata": {
    "collapsed": true
   },
   "outputs": [],
   "source": [
    "corp_list = all_fund_df['fund_corp'].unique()"
   ]
  },
  {
   "cell_type": "code",
   "execution_count": 31,
   "metadata": {},
   "outputs": [
    {
     "name": "stdout",
     "output_type": "stream",
     "text": [
      "Total Number of fund company:115\n"
     ]
    }
   ],
   "source": [
    "print(\"Total Number of fund company:\" + str(len(corp_list) ) )"
   ]
  },
  {
   "cell_type": "code",
   "execution_count": 33,
   "metadata": {},
   "outputs": [
    {
     "name": "stdout",
     "output_type": "stream",
     "text": [
      "['富国基金' '华富基金' '长盛基金' '安信基金' '国联安基金' '上海东方证券资产管理' '景顺长城基金' '鹏华基金' '上投摩根基金'\n",
      " '新华基金' '汇添富基金' '长城基金' '浦银安盛基金' '银华基金' '国泰基金' '中金基金' '中融基金' '华宝兴业基金' '博时基金'\n",
      " '中欧基金' '工银瑞信基金' '银河基金' '南方基金' '易方达基金' '摩根士丹利华鑫基金' '招商基金' '国都证券' '嘉实基金'\n",
      " '前海开源基金' '中邮基金' '信诚基金' '国寿安保基金' '建信基金' '农银汇理基金' '广发基金' '恒生前海基金' '华夏基金'\n",
      " '长信基金' '华商基金' '红土创新基金' '红塔红土' '华泰保兴' '华安基金' '国投瑞银基金' '中银国际证券' '万家基金'\n",
      " '泰康资产' '平安大华基金' '中信建投基金' '九泰基金' '交银施罗德基金' '申万菱信基金' '海富通基金' '江信基金' '上银基金'\n",
      " '国海富兰克林基金' '中海基金' '财通基金' '北信瑞丰' '融通基金' '中银基金' '圆信永丰基金' '泓德基金' '泰达宏利基金'\n",
      " '兴业基金' '诺安基金' '天弘基金' '金鹰基金' '民生加银基金' '方正富邦基金' '信达澳银基金' '浙商基金' '光大保德信基金'\n",
      " '创金合信基金' '天治基金' '大成基金' '东方基金' '益民基金' '金元顺安基金' '泰信基金' '华泰柏瑞基金' '兴银基金'\n",
      " '鑫元基金' '西部利得基金' '英大基金' '宝盈基金' '国金基金' '华润元大基金' '汇丰晋信基金' '金信基金' '华融证券'\n",
      " '浙商证券资管' '东吴基金' '前海联合' '兴全基金' '山西证券' '东海基金' '德邦基金' '永赢基金' '东兴证券' '长安基金'\n",
      " '中加基金' '汇安基金' '诺德基金' '富安达基金' '太平基金' '中科沃土基金' '新沃基金' '国开泰富基金' '嘉合基金' '先锋基金'\n",
      " '财通资管' '长江证券(上海)' '富荣基金' '华宸未来基金']\n"
     ]
    }
   ],
   "source": [
    "#fund company\n",
    "print(corp_list)"
   ]
  },
  {
   "cell_type": "markdown",
   "metadata": {},
   "source": [
    "### Number of funds per company"
   ]
  },
  {
   "cell_type": "code",
   "execution_count": 42,
   "metadata": {
    "collapsed": true
   },
   "outputs": [],
   "source": [
    "count_of_fund_company = all_fund_df.groupby(['fund_corp'])['fund_scale'].count()"
   ]
  },
  {
   "cell_type": "code",
   "execution_count": 51,
   "metadata": {
    "scrolled": true
   },
   "outputs": [
    {
     "data": {
      "text/plain": [
       "fund_corp\n",
       "博时基金        220\n",
       "招商基金        168\n",
       "广发基金        166\n",
       "鹏华基金        160\n",
       "南方基金        135\n",
       "华夏基金        127\n",
       "易方达基金       125\n",
       "嘉实基金        118\n",
       "工银瑞信基金      117\n",
       "华安基金        102\n",
       "长盛基金        100\n",
       "国泰基金         98\n",
       "信诚基金         97\n",
       "中银基金         93\n",
       "中欧基金         92\n",
       "汇添富基金        91\n",
       "富国基金         90\n",
       "建信基金         85\n",
       "大成基金         85\n",
       "银华基金         83\n",
       "交银施罗德基金      82\n",
       "上投摩根基金       77\n",
       "泰达宏利基金       75\n",
       "景顺长城基金       75\n",
       "前海开源基金       73\n",
       "融通基金         72\n",
       "天弘基金         70\n",
       "国投瑞银基金       69\n",
       "银河基金         66\n",
       "长信基金         63\n",
       "           ... \n",
       "方正富邦基金       10\n",
       "金元顺安基金       10\n",
       "北信瑞丰         10\n",
       "红塔红土          9\n",
       "永赢基金          8\n",
       "富安达基金         7\n",
       "浙商证券资管        7\n",
       "金信基金          7\n",
       "益民基金          6\n",
       "东兴证券          5\n",
       "中银国际证券        5\n",
       "东海基金          5\n",
       "新沃基金          4\n",
       "国开泰富基金        4\n",
       "国金基金          4\n",
       "国都证券          3\n",
       "华泰保兴          3\n",
       "上银基金          3\n",
       "红土创新基金        3\n",
       "财通资管          2\n",
       "华融证券          2\n",
       "山西证券          2\n",
       "富荣基金          2\n",
       "先锋基金          2\n",
       "嘉合基金          2\n",
       "中科沃土基金        1\n",
       "太平基金          1\n",
       "长江证券(上海)      1\n",
       "恒生前海基金        1\n",
       "华宸未来基金        1\n",
       "Name: fund_scale, Length: 115, dtype: int64"
      ]
     },
     "execution_count": 51,
     "metadata": {},
     "output_type": "execute_result"
    }
   ],
   "source": [
    "count_of_fund_company = count_of_fund_company.sort_values(ascending=False)\n",
    "count_of_fund_company"
   ]
  },
  {
   "cell_type": "markdown",
   "metadata": {},
   "source": [
    "### asset of each company"
   ]
  },
  {
   "cell_type": "code",
   "execution_count": 43,
   "metadata": {
    "collapsed": true
   },
   "outputs": [],
   "source": [
    "asset_of_company = all_fund_df.groupby(['fund_corp'])['fund_scale'].sum()\n",
    "asset_of_company = asset_of_company.sort_values(ascending=False)"
   ]
  },
  {
   "cell_type": "code",
   "execution_count": 44,
   "metadata": {
    "scrolled": true
   },
   "outputs": [
    {
     "data": {
      "text/plain": [
       "fund_corp\n",
       "工银瑞信基金      3592.000000\n",
       "博时基金        2572.000000\n",
       "易方达基金       2342.000000\n",
       "嘉实基金        2118.000000\n",
       "华夏基金        1827.000000\n",
       "招商基金        1810.000000\n",
       "中银基金        1706.000000\n",
       "南方基金        1696.000000\n",
       "鹏华基金        1664.000000\n",
       "富国基金        1574.000000\n",
       "广发基金        1403.000000\n",
       "建信基金        1346.000000\n",
       "汇添富基金       1226.000000\n",
       "华安基金         715.500000\n",
       "中欧基金         706.000000\n",
       "银华基金         652.500000\n",
       "国泰基金         640.500000\n",
       "兴业基金         607.000000\n",
       "兴全基金         550.000000\n",
       "长信基金         541.500000\n",
       "大成基金         528.500000\n",
       "农银汇理基金       520.500000\n",
       "景顺长城基金       510.000000\n",
       "融通基金         505.500000\n",
       "交银施罗德基金      497.000000\n",
       "中邮基金         474.750000\n",
       "上投摩根基金       467.750000\n",
       "长城基金         467.000000\n",
       "华商基金         461.750000\n",
       "华宝兴业基金       460.000000\n",
       "               ...     \n",
       "富安达基金         21.421875\n",
       "天治基金          19.187500\n",
       "中金基金          18.593750\n",
       "益民基金          17.437500\n",
       "英大基金          16.531250\n",
       "太平基金          15.468750\n",
       "浙商证券资管        14.148438\n",
       "新沃基金          13.851562\n",
       "前海联合          13.226562\n",
       "长安基金          11.507812\n",
       "国开泰富基金        11.070312\n",
       "山西证券          10.125000\n",
       "东海基金          10.007812\n",
       "国金基金           9.078125\n",
       "金信基金           8.812500\n",
       "红塔红土           8.609375\n",
       "华润元大基金         7.589844\n",
       "国都证券           7.500000\n",
       "东兴证券           5.878906\n",
       "财通资管           5.242188\n",
       "长江证券(上海)       4.441406\n",
       "恒生前海基金         4.250000\n",
       "富荣基金           4.000000\n",
       "红土创新基金         3.570312\n",
       "华泰保兴           3.468750\n",
       "华融证券           2.640625\n",
       "中科沃土基金         1.320312\n",
       "嘉合基金           0.519531\n",
       "先锋基金           0.419922\n",
       "华宸未来基金         0.170044\n",
       "Name: fund_scale, Length: 115, dtype: float16"
      ]
     },
     "execution_count": 44,
     "metadata": {},
     "output_type": "execute_result"
    }
   ],
   "source": [
    "asset_of_company"
   ]
  },
  {
   "cell_type": "markdown",
   "metadata": {},
   "source": [
    "### Good Fund Company?\n",
    "fund company which is ranked within 15 both by count of fund and asset"
   ]
  },
  {
   "cell_type": "code",
   "execution_count": 62,
   "metadata": {
    "collapsed": true
   },
   "outputs": [],
   "source": [
    "good_fund_company = []\n",
    "for i in count_of_fund_company.index[0:15]:\n",
    "    for j in asset_of_company.index[0:15]:\n",
    "        if i == j:\n",
    "            good_fund_company.append(i)"
   ]
  },
  {
   "cell_type": "code",
   "execution_count": 63,
   "metadata": {},
   "outputs": [
    {
     "name": "stdout",
     "output_type": "stream",
     "text": [
      "['博时基金', '招商基金', '广发基金', '鹏华基金', '南方基金', '华夏基金', '易方达基金', '嘉实基金', '工银瑞信基金', '华安基金', '中银基金', '中欧基金']\n"
     ]
    }
   ],
   "source": [
    "print(good_fund_company)"
   ]
  },
  {
   "cell_type": "markdown",
   "metadata": {},
   "source": [
    "## Fund analysis by category"
   ]
  },
  {
   "cell_type": "code",
   "execution_count": 64,
   "metadata": {
    "collapsed": true
   },
   "outputs": [],
   "source": [
    "count_of_fund_category = all_fund_df.groupby(['fund_cate'])['fund_scale'].count()\n",
    "count_of_fund_category = count_of_fund_category.sort_values(ascending=False)"
   ]
  },
  {
   "cell_type": "markdown",
   "metadata": {},
   "source": [
    "### count of fund by category"
   ]
  },
  {
   "cell_type": "code",
   "execution_count": 65,
   "metadata": {},
   "outputs": [
    {
     "data": {
      "text/plain": [
       "fund_cate\n",
       "混合型        2368\n",
       "债券型        1230\n",
       "定开债券        377\n",
       "股票指数        329\n",
       "股票型         211\n",
       "QDII        135\n",
       "联接基金        101\n",
       "QDII-指数      55\n",
       "债券指数         39\n",
       "固定收益         18\n",
       "分级杠杆         17\n",
       "货币型           1\n",
       "Name: fund_scale, dtype: int64"
      ]
     },
     "execution_count": 65,
     "metadata": {},
     "output_type": "execute_result"
    }
   ],
   "source": [
    "count_of_fund_category"
   ]
  },
  {
   "cell_type": "markdown",
   "metadata": {},
   "source": [
    "### asset of each category"
   ]
  },
  {
   "cell_type": "code",
   "execution_count": 68,
   "metadata": {
    "collapsed": true
   },
   "outputs": [],
   "source": [
    "scale_of_fund_category = all_fund_df.groupby(['fund_cate'])['fund_scale'].sum()\n",
    "scale_of_fund_category = scale_of_fund_category.sort_values(ascending=False)"
   ]
  },
  {
   "cell_type": "code",
   "execution_count": 69,
   "metadata": {},
   "outputs": [
    {
     "data": {
      "text/plain": [
       "fund_cate\n",
       "混合型        18912.0\n",
       "债券型        13296.0\n",
       "定开债券        6368.0\n",
       "股票指数        2638.0\n",
       "股票型         2148.0\n",
       "QDII         867.0\n",
       "联接基金         668.5\n",
       "QDII-指数      424.5\n",
       "固定收益         266.0\n",
       "分级杠杆         237.0\n",
       "债券指数         197.5\n",
       "货币型            0.0\n",
       "Name: fund_scale, dtype: float16"
      ]
     },
     "execution_count": 69,
     "metadata": {},
     "output_type": "execute_result"
    }
   ],
   "source": [
    "scale_of_fund_category"
   ]
  },
  {
   "cell_type": "code",
   "execution_count": null,
   "metadata": {
    "collapsed": true
   },
   "outputs": [],
   "source": [
    ""
   ]
  }
 ],
 "metadata": {
  "kernelspec": {
   "display_name": "Python 3",
   "language": "python",
   "name": "python3"
  },
  "language_info": {
   "codemirror_mode": {
    "name": "ipython",
    "version": 3.0
   },
   "file_extension": ".py",
   "mimetype": "text/x-python",
   "name": "python",
   "nbconvert_exporter": "python",
   "pygments_lexer": "ipython3",
   "version": "3.5.3"
  },
  "toc": {
   "colors": {
    "hover_highlight": "#DAA520",
    "navigate_num": "#000000",
    "navigate_text": "#333333",
    "running_highlight": "#FF0000",
    "selected_highlight": "#FFD700",
    "sidebar_border": "#EEEEEE",
    "wrapper_background": "#FFFFFF"
   },
   "moveMenuLeft": true,
   "nav_menu": {
    "height": "63px",
    "width": "252px"
   },
   "navigate_menu": true,
   "number_sections": true,
   "sideBar": true,
   "threshold": 4.0,
   "toc_cell": false,
   "toc_section_display": "block",
   "toc_window_display": true,
   "widenNotebook": false
  }
 },
 "nbformat": 4,
 "nbformat_minor": 0
}